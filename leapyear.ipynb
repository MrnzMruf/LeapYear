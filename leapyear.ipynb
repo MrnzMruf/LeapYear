{
  "nbformat": 4,
  "nbformat_minor": 0,
  "metadata": {
    "colab": {
      "provenance": [],
      "authorship_tag": "ABX9TyN+yChkKkSp0Fq6iw9OsJx/",
      "include_colab_link": true
    },
    "kernelspec": {
      "name": "python3",
      "display_name": "Python 3"
    },
    "language_info": {
      "name": "python"
    }
  },
  "cells": [
    {
      "cell_type": "markdown",
      "metadata": {
        "id": "view-in-github",
        "colab_type": "text"
      },
      "source": [
        "<a href=\"https://colab.research.google.com/github/MrnzMruf/LeapYear/blob/main/leapyear.ipynb\" target=\"_parent\"><img src=\"https://colab.research.google.com/assets/colab-badge.svg\" alt=\"Open In Colab\"/></a>"
      ]
    },
    {
      "cell_type": "code",
      "execution_count": null,
      "metadata": {
        "id": "yEu_b-vGhSGS"
      },
      "outputs": [],
      "source": [
        "# Is Entered year, a leap year?\n",
        "entered_year = int(input(\"Enter a year with 4 digit(ex.2001): \"))\n",
        "###################################\n",
        "if entered_year % 4 == 0:\n",
        "    ###############################\n",
        "    if entered_year % 100 == 0:\n",
        "        ###########################\n",
        "        if entered_year % 400 == 0:\n",
        "            print(\"This Year is a Leap Year\")\n",
        "        else:\n",
        "            print(\"Sorry This Year Is Not A Leap Year\")\n",
        "        ###########################\n",
        "    else:\n",
        "        print(\"This Year is a Leap Year\")\n",
        "    ###############################\n",
        "else:\n",
        "    print(\"Sorry This Year Is Not A Leap Year\")\n",
        "###################################"
      ]
    }
  ]
}